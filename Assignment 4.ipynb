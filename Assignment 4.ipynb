{
 "cells": [
  {
   "cell_type": "markdown",
   "id": "74d50004",
   "metadata": {},
   "source": [
    "# Part A: Data Exploration and Baseline Model\n",
    "\n",
    "In this initial part of our analysis, we will focus on understanding the dataset and establishing a performance baseline. This baseline will serve as a benchmark against which we will compare the more advanced model developed in later stages. The process involves three key steps:\n",
    "\n",
    "1.  **Data Loading and Analysis:** We will load the dataset and perform an exploratory data analysis (EDA) with a specific focus on the class distribution to understand the extent of the class imbalance.\n",
    "2.  **Model Training:** We will prepare the data and train a standard Logistic Regression classifier. This model will be trained on the original, imbalanced dataset.\n",
    "3.  **Baseline Evaluation:** We will evaluate the performance of our baseline model using appropriate metrics for imbalanced classification and discuss why metrics like accuracy can be misleading.\n",
    "\n",
    "---\n",
    "\n",
    "### 1. Data Loading and Analysis\n",
    "\n",
    "#### **1.1. Importing Libraries and Loading Data**\n",
    "\n",
    "First, we import the necessary Python libraries for data manipulation, visualization, and machine learning.\n",
    "\n"
   ]
  },
  {
   "cell_type": "code",
   "execution_count": 2,
   "id": "a6c92365",
   "metadata": {},
   "outputs": [
    {
     "name": "stdout",
     "output_type": "stream",
     "text": [
      "Dataset loaded successfully.\n",
      "Shape of the dataset: (284807, 31)\n"
     ]
    }
   ],
   "source": [
    "# Importing necessary libraries\n",
    "import pandas as pd\n",
    "import numpy as np\n",
    "import matplotlib.pyplot as plt\n",
    "import seaborn as sns\n",
    "from sklearn.model_selection import train_test_split\n",
    "from sklearn.preprocessing import StandardScaler\n",
    "from sklearn.linear_model import LogisticRegression\n",
    "from sklearn.metrics import classification_report, confusion_matrix, accuracy_score\n",
    "\n",
    "# Setting a random state for reproducibility\n",
    "RANDOM_STATE = 42\n",
    "\n",
    "# Load the dataset\n",
    "try:\n",
    "    df = pd.read_csv('creditcard.csv')\n",
    "    print(\"Dataset loaded successfully.\")\n",
    "    print(\"Shape of the dataset:\", df.shape)\n",
    "except FileNotFoundError:\n",
    "    print(\"Error: 'creditcard.csv' not found. Please ensure the dataset is in the correct directory.\")\n",
    "\n"
   ]
  },
  {
   "cell_type": "markdown",
   "id": "4e1b8e5c",
   "metadata": {},
   "source": [
    "#### **1.2. Exploratory Data Analysis (EDA)**\n",
    "\n",
    "Let's explore the dataset to understand its structure and, most importantly, the class distribution. The dataset contains numerical features (`V1` to `V28`) which are the result of a PCA transformation, along with `Time` and `Amount`. The target variable is `Class`, where `1` indicates a fraudulent transaction and `0` indicates a legitimate one.\n"
   ]
  },
  {
   "cell_type": "code",
   "execution_count": 3,
   "id": "ddf2a6b8",
   "metadata": {},
   "outputs": [
    {
     "name": "stdout",
     "output_type": "stream",
     "text": [
      "First 5 rows of the dataset:\n",
      "   Time        V1        V2        V3        V4        V5        V6        V7  \\\n",
      "0   0.0 -1.359807 -0.072781  2.536347  1.378155 -0.338321  0.462388  0.239599   \n",
      "1   0.0  1.191857  0.266151  0.166480  0.448154  0.060018 -0.082361 -0.078803   \n",
      "2   1.0 -1.358354 -1.340163  1.773209  0.379780 -0.503198  1.800499  0.791461   \n",
      "3   1.0 -0.966272 -0.185226  1.792993 -0.863291 -0.010309  1.247203  0.237609   \n",
      "4   2.0 -1.158233  0.877737  1.548718  0.403034 -0.407193  0.095921  0.592941   \n",
      "\n",
      "         V8        V9  ...       V21       V22       V23       V24       V25  \\\n",
      "0  0.098698  0.363787  ... -0.018307  0.277838 -0.110474  0.066928  0.128539   \n",
      "1  0.085102 -0.255425  ... -0.225775 -0.638672  0.101288 -0.339846  0.167170   \n",
      "2  0.247676 -1.514654  ...  0.247998  0.771679  0.909412 -0.689281 -0.327642   \n",
      "3  0.377436 -1.387024  ... -0.108300  0.005274 -0.190321 -1.175575  0.647376   \n",
      "4 -0.270533  0.817739  ... -0.009431  0.798278 -0.137458  0.141267 -0.206010   \n",
      "\n",
      "        V26       V27       V28  Amount  Class  \n",
      "0 -0.189115  0.133558 -0.021053  149.62      0  \n",
      "1  0.125895 -0.008983  0.014724    2.69      0  \n",
      "2 -0.139097 -0.055353 -0.059752  378.66      0  \n",
      "3 -0.221929  0.062723  0.061458  123.50      0  \n",
      "4  0.502292  0.219422  0.215153   69.99      0  \n",
      "\n",
      "[5 rows x 31 columns]\n",
      "\n",
      "Missing values in each column:\n",
      "0\n",
      "\n",
      "Dataset Information:\n",
      "<class 'pandas.core.frame.DataFrame'>\n",
      "RangeIndex: 284807 entries, 0 to 284806\n",
      "Data columns (total 31 columns):\n",
      " #   Column  Non-Null Count   Dtype  \n",
      "---  ------  --------------   -----  \n",
      " 0   Time    284807 non-null  float64\n",
      " 1   V1      284807 non-null  float64\n",
      " 2   V2      284807 non-null  float64\n",
      " 3   V3      284807 non-null  float64\n",
      " 4   V4      284807 non-null  float64\n",
      " 5   V5      284807 non-null  float64\n",
      " 6   V6      284807 non-null  float64\n",
      " 7   V7      284807 non-null  float64\n",
      " 8   V8      284807 non-null  float64\n",
      " 9   V9      284807 non-null  float64\n",
      " 10  V10     284807 non-null  float64\n",
      " 11  V11     284807 non-null  float64\n",
      " 12  V12     284807 non-null  float64\n",
      " 13  V13     284807 non-null  float64\n",
      " 14  V14     284807 non-null  float64\n",
      " 15  V15     284807 non-null  float64\n",
      " 16  V16     284807 non-null  float64\n",
      " 17  V17     284807 non-null  float64\n",
      " 18  V18     284807 non-null  float64\n",
      " 19  V19     284807 non-null  float64\n",
      " 20  V20     284807 non-null  float64\n",
      " 21  V21     284807 non-null  float64\n",
      " 22  V22     284807 non-null  float64\n",
      " 23  V23     284807 non-null  float64\n",
      " 24  V24     284807 non-null  float64\n",
      " 25  V25     284807 non-null  float64\n",
      " 26  V26     284807 non-null  float64\n",
      " 27  V27     284807 non-null  float64\n",
      " 28  V28     284807 non-null  float64\n",
      " 29  Amount  284807 non-null  float64\n",
      " 30  Class   284807 non-null  int64  \n",
      "dtypes: float64(30), int64(1)\n",
      "memory usage: 67.4 MB\n"
     ]
    }
   ],
   "source": [
    "# Display the first 5 rows of the dataframe\n",
    "print(\"First 5 rows of the dataset:\")\n",
    "print(df.head())\n",
    "\n",
    "# Check for missing values\n",
    "print(\"\\nMissing values in each column:\")\n",
    "print(df.isnull().sum().max())\n",
    "\n",
    "# Get a summary of the dataset\n",
    "print(\"\\nDataset Information:\")\n",
    "df.info()\n"
   ]
  },
  {
   "cell_type": "markdown",
   "id": "832e73b5",
   "metadata": {},
   "source": [
    "#### **1.3. Analyzing Class Imbalance**\n",
    "\n",
    "Now, we will examine the distribution of the `Class` variable to understand the degree of imbalance.\n"
   ]
  },
  {
   "cell_type": "code",
   "execution_count": 9,
   "id": "43caff0e",
   "metadata": {},
   "outputs": [
    {
     "name": "stdout",
     "output_type": "stream",
     "text": [
      "\n",
      "Class Distribution:\n",
      "Class\n",
      "0    284315\n",
      "1       492\n",
      "Name: count, dtype: int64\n",
      "\n",
      "Legitimate Transactions (Class 0): 99.8273%\n",
      "Fraudulent Transactions (Class 1): 0.1727%\n"
     ]
    },
    {
     "name": "stderr",
     "output_type": "stream",
     "text": [
      "/tmp/ipykernel_17372/2019089528.py:12: FutureWarning: \n",
      "\n",
      "Passing `palette` without assigning `hue` is deprecated and will be removed in v0.14.0. Assign the `x` variable to `hue` and set `legend=False` for the same effect.\n",
      "\n",
      "  sns.countplot(x='Class', data=df, palette={0: \"#3498db\", 1: \"#e74c3c\"})\n"
     ]
    },
    {
     "ename": "ValueError",
     "evalue": "The palette dictionary is missing keys: {'0', '1'}",
     "output_type": "error",
     "traceback": [
      "\u001b[31m---------------------------------------------------------------------------\u001b[39m",
      "\u001b[31mValueError\u001b[39m                                Traceback (most recent call last)",
      "\u001b[36mCell\u001b[39m\u001b[36m \u001b[39m\u001b[32mIn[9]\u001b[39m\u001b[32m, line 12\u001b[39m\n\u001b[32m     10\u001b[39m \u001b[38;5;66;03m# Visualize the class distribution (log scale, different colors)\u001b[39;00m\n\u001b[32m     11\u001b[39m plt.figure(figsize=(\u001b[32m8\u001b[39m, \u001b[32m6\u001b[39m))\n\u001b[32m---> \u001b[39m\u001b[32m12\u001b[39m \u001b[43msns\u001b[49m\u001b[43m.\u001b[49m\u001b[43mcountplot\u001b[49m\u001b[43m(\u001b[49m\u001b[43mx\u001b[49m\u001b[43m=\u001b[49m\u001b[33;43m'\u001b[39;49m\u001b[33;43mClass\u001b[39;49m\u001b[33;43m'\u001b[39;49m\u001b[43m,\u001b[49m\u001b[43m \u001b[49m\u001b[43mdata\u001b[49m\u001b[43m=\u001b[49m\u001b[43mdf\u001b[49m\u001b[43m,\u001b[49m\u001b[43m \u001b[49m\u001b[43mpalette\u001b[49m\u001b[43m=\u001b[49m\u001b[43m{\u001b[49m\u001b[32;43m0\u001b[39;49m\u001b[43m:\u001b[49m\u001b[43m \u001b[49m\u001b[33;43m\"\u001b[39;49m\u001b[33;43m#3498db\u001b[39;49m\u001b[33;43m\"\u001b[39;49m\u001b[43m,\u001b[49m\u001b[43m \u001b[49m\u001b[32;43m1\u001b[39;49m\u001b[43m:\u001b[49m\u001b[43m \u001b[49m\u001b[33;43m\"\u001b[39;49m\u001b[33;43m#e74c3c\u001b[39;49m\u001b[33;43m\"\u001b[39;49m\u001b[43m}\u001b[49m\u001b[43m)\u001b[49m\n\u001b[32m     13\u001b[39m plt.yscale(\u001b[33m'\u001b[39m\u001b[33mlog\u001b[39m\u001b[33m'\u001b[39m)\n\u001b[32m     14\u001b[39m plt.title(\u001b[33m'\u001b[39m\u001b[33mClass Distribution (0: Legitimate, 1: Fraud) [Log Scale]\u001b[39m\u001b[33m'\u001b[39m)\n",
      "\u001b[36mFile \u001b[39m\u001b[32m~/miniconda3/lib/python3.13/site-packages/seaborn/categorical.py:2660\u001b[39m, in \u001b[36mcountplot\u001b[39m\u001b[34m(data, x, y, hue, order, hue_order, orient, color, palette, saturation, fill, hue_norm, stat, width, dodge, gap, log_scale, native_scale, formatter, legend, ax, **kwargs)\u001b[39m\n\u001b[32m   2657\u001b[39m palette, hue_order = p._hue_backcompat(color, palette, hue_order)\n\u001b[32m   2659\u001b[39m saturation = saturation \u001b[38;5;28;01mif\u001b[39;00m fill \u001b[38;5;28;01melse\u001b[39;00m \u001b[32m1\u001b[39m\n\u001b[32m-> \u001b[39m\u001b[32m2660\u001b[39m \u001b[43mp\u001b[49m\u001b[43m.\u001b[49m\u001b[43mmap_hue\u001b[49m\u001b[43m(\u001b[49m\u001b[43mpalette\u001b[49m\u001b[43m=\u001b[49m\u001b[43mpalette\u001b[49m\u001b[43m,\u001b[49m\u001b[43m \u001b[49m\u001b[43morder\u001b[49m\u001b[43m=\u001b[49m\u001b[43mhue_order\u001b[49m\u001b[43m,\u001b[49m\u001b[43m \u001b[49m\u001b[43mnorm\u001b[49m\u001b[43m=\u001b[49m\u001b[43mhue_norm\u001b[49m\u001b[43m,\u001b[49m\u001b[43m \u001b[49m\u001b[43msaturation\u001b[49m\u001b[43m=\u001b[49m\u001b[43msaturation\u001b[49m\u001b[43m)\u001b[49m\n\u001b[32m   2661\u001b[39m color = _default_color(ax.bar, hue, color, kwargs, saturation)\n\u001b[32m   2663\u001b[39m count_axis = {\u001b[33m\"\u001b[39m\u001b[33mx\u001b[39m\u001b[33m\"\u001b[39m: \u001b[33m\"\u001b[39m\u001b[33my\u001b[39m\u001b[33m\"\u001b[39m, \u001b[33m\"\u001b[39m\u001b[33my\u001b[39m\u001b[33m\"\u001b[39m: \u001b[33m\"\u001b[39m\u001b[33mx\u001b[39m\u001b[33m\"\u001b[39m}[p.orient]\n",
      "\u001b[36mFile \u001b[39m\u001b[32m~/miniconda3/lib/python3.13/site-packages/seaborn/_base.py:838\u001b[39m, in \u001b[36mVectorPlotter.map_hue\u001b[39m\u001b[34m(self, palette, order, norm, saturation)\u001b[39m\n\u001b[32m    837\u001b[39m \u001b[38;5;28;01mdef\u001b[39;00m\u001b[38;5;250m \u001b[39m\u001b[34mmap_hue\u001b[39m(\u001b[38;5;28mself\u001b[39m, palette=\u001b[38;5;28;01mNone\u001b[39;00m, order=\u001b[38;5;28;01mNone\u001b[39;00m, norm=\u001b[38;5;28;01mNone\u001b[39;00m, saturation=\u001b[32m1\u001b[39m):\n\u001b[32m--> \u001b[39m\u001b[32m838\u001b[39m     mapping = \u001b[43mHueMapping\u001b[49m\u001b[43m(\u001b[49m\u001b[38;5;28;43mself\u001b[39;49m\u001b[43m,\u001b[49m\u001b[43m \u001b[49m\u001b[43mpalette\u001b[49m\u001b[43m,\u001b[49m\u001b[43m \u001b[49m\u001b[43morder\u001b[49m\u001b[43m,\u001b[49m\u001b[43m \u001b[49m\u001b[43mnorm\u001b[49m\u001b[43m,\u001b[49m\u001b[43m \u001b[49m\u001b[43msaturation\u001b[49m\u001b[43m)\u001b[49m\n\u001b[32m    839\u001b[39m     \u001b[38;5;28mself\u001b[39m._hue_map = mapping\n",
      "\u001b[36mFile \u001b[39m\u001b[32m~/miniconda3/lib/python3.13/site-packages/seaborn/_base.py:150\u001b[39m, in \u001b[36mHueMapping.__init__\u001b[39m\u001b[34m(self, plotter, palette, order, norm, saturation)\u001b[39m\n\u001b[32m    147\u001b[39m \u001b[38;5;28;01melif\u001b[39;00m map_type == \u001b[33m\"\u001b[39m\u001b[33mcategorical\u001b[39m\u001b[33m\"\u001b[39m:\n\u001b[32m    149\u001b[39m     cmap = norm = \u001b[38;5;28;01mNone\u001b[39;00m\n\u001b[32m--> \u001b[39m\u001b[32m150\u001b[39m     levels, lookup_table = \u001b[38;5;28;43mself\u001b[39;49m\u001b[43m.\u001b[49m\u001b[43mcategorical_mapping\u001b[49m\u001b[43m(\u001b[49m\n\u001b[32m    151\u001b[39m \u001b[43m        \u001b[49m\u001b[43mdata\u001b[49m\u001b[43m,\u001b[49m\u001b[43m \u001b[49m\u001b[43mpalette\u001b[49m\u001b[43m,\u001b[49m\u001b[43m \u001b[49m\u001b[43morder\u001b[49m\u001b[43m,\u001b[49m\n\u001b[32m    152\u001b[39m \u001b[43m    \u001b[49m\u001b[43m)\u001b[49m\n\u001b[32m    154\u001b[39m \u001b[38;5;66;03m# --- Option 3: datetime mapping\u001b[39;00m\n\u001b[32m    155\u001b[39m \n\u001b[32m    156\u001b[39m \u001b[38;5;28;01melse\u001b[39;00m:\n\u001b[32m    157\u001b[39m     \u001b[38;5;66;03m# TODO this needs actual implementation\u001b[39;00m\n\u001b[32m    158\u001b[39m     cmap = norm = \u001b[38;5;28;01mNone\u001b[39;00m\n",
      "\u001b[36mFile \u001b[39m\u001b[32m~/miniconda3/lib/python3.13/site-packages/seaborn/_base.py:234\u001b[39m, in \u001b[36mHueMapping.categorical_mapping\u001b[39m\u001b[34m(self, data, palette, order)\u001b[39m\n\u001b[32m    232\u001b[39m     \u001b[38;5;28;01mif\u001b[39;00m \u001b[38;5;28many\u001b[39m(missing):\n\u001b[32m    233\u001b[39m         err = \u001b[33m\"\u001b[39m\u001b[33mThe palette dictionary is missing keys: \u001b[39m\u001b[38;5;132;01m{}\u001b[39;00m\u001b[33m\"\u001b[39m\n\u001b[32m--> \u001b[39m\u001b[32m234\u001b[39m         \u001b[38;5;28;01mraise\u001b[39;00m \u001b[38;5;167;01mValueError\u001b[39;00m(err.format(missing))\n\u001b[32m    236\u001b[39m     lookup_table = palette\n\u001b[32m    238\u001b[39m \u001b[38;5;28;01melse\u001b[39;00m:\n",
      "\u001b[31mValueError\u001b[39m: The palette dictionary is missing keys: {'0', '1'}"
     ]
    },
    {
     "data": {
      "image/png": "[encoded data removed]",
      "text/plain": [
       "<Figure size 800x600 with 1 Axes>"
      ]
     },
     "metadata": {},
     "output_type": "display_data"
    }
   ],
   "source": [
    "# Check the distribution of the 'Class' variable\n",
    "class_distribution = df['Class'].value_counts()\n",
    "class_distribution_percent = df['Class'].value_counts(normalize=True) * 100\n",
    "\n",
    "print(\"\\nClass Distribution:\")\n",
    "print(class_distribution)\n",
    "print(f\"\\nLegitimate Transactions (Class 0): {class_distribution_percent[0]:.4f}%\")\n",
    "print(f\"Fraudulent Transactions (Class 1): {class_distribution_percent[1]:.4f}%\")\n",
    "\n",
    "# Visualize the class distribution (log scale, different colors)\n",
    "plt.figure(figsize=(8, 6))\n",
    "sns.countplot(x='Class', data=df, palette={0: \"#3498db\", 1: \"#e74c3c\"})\n",
    "plt.yscale('log')\n",
    "plt.title('Class Distribution (0: Legitimate, 1: Fraud) [Log Scale]')\n",
    "plt.xlabel('Class')\n",
    "plt.ylabel('Number of Transactions (log scale)')\n",
    "plt.show()\n"
   ]
  },
  {
   "cell_type": "markdown",
   "id": "cf4209d0",
   "metadata": {},
   "source": [
    "**Discussion on Class Imbalance:**\n",
    "\n",
    "The output clearly shows a severe class imbalance. Out of **284,807** transactions, only **492** are fraudulent. This means that fraudulent transactions make up a mere **0.1727%** of the entire dataset. This is a classic example of a highly imbalanced dataset, where the minority class (fraud) is vastly outnumbered by the majority class (legitimate). This imbalance poses a significant challenge for machine learning models, as they can achieve high accuracy by simply predicting the majority class for all instances, while completely failing to identify the rare but critical fraudulent cases.\n",
    "\n",
    "---\n",
    "\n",
    "### 2. Model Training\n",
    "\n",
    "#### **2.1. Data Preprocessing and Splitting**\n",
    "\n",
    "Before training, we need to preprocess our data. The `Amount` and `Time` features have vastly different scales compared to the PCA-derived `V` features. We will scale the `Amount` feature using `StandardScaler`. The `Time` feature will be dropped as it represents the seconds elapsed between transactions, which may not be a directly useful predictor without further feature engineering.\n",
    "\n",
    "We will then split the data into training and testing sets. It is crucial to use a **stratified split** to ensure that the test set maintains the same proportion of fraudulent and legitimate transactions as the original dataset. This guarantees that our evaluation is representative of the real-world data distribution.\n"
   ]
  },
  {
   "cell_type": "code",
   "execution_count": 5,
   "id": "133ba797",
   "metadata": {},
   "outputs": [
    {
     "name": "stdout",
     "output_type": "stream",
     "text": [
      "Training set shape: (227845, 29)\n",
      "Test set shape: (56962, 29)\n",
      "\n",
      "Fraud transactions in training set: 394\n",
      "Fraud transactions in test set: 98\n"
     ]
    }
   ],
   "source": [
    "# Scale the 'Amount' feature and drop 'Time'\n",
    "scaler = StandardScaler()\n",
    "df['scaled_Amount'] = scaler.fit_transform(df['Amount'].values.reshape(-1, 1))\n",
    "df_processed = df.drop(['Time', 'Amount'], axis=1)\n",
    "\n",
    "# Define features (X) and target (y)\n",
    "X = df_processed.drop('Class', axis=1)\n",
    "y = df_processed['Class']\n",
    "\n",
    "# Split the dataset into training and testing sets (80% train, 20% test)\n",
    "# Use stratify=y to ensure the class distribution is the same in train and test sets\n",
    "X_train, X_test, y_train, y_test = train_test_split(\n",
    "    X, y, test_size=0.2, random_state=RANDOM_STATE, stratify=y\n",
    ")\n",
    "\n",
    "print(f\"Training set shape: {X_train.shape}\")\n",
    "print(f\"Test set shape: {X_test.shape}\")\n",
    "print(f\"\\nFraud transactions in training set: {sum(y_train)}\")\n",
    "print(f\"Fraud transactions in test set: {sum(y_test)}\")\n"
   ]
  },
  {
   "cell_type": "markdown",
   "id": "04f5ee7d",
   "metadata": {},
   "source": [
    "#### **2.2. Training the Logistic Regression Classifier**\n",
    "\n",
    "We will now train a Logistic Regression model on the imbalanced training data. This will serve as our baseline model.\n",
    "\n"
   ]
  },
  {
   "cell_type": "code",
   "execution_count": 6,
   "id": "523e154e",
   "metadata": {},
   "outputs": [
    {
     "name": "stdout",
     "output_type": "stream",
     "text": [
      "Training the baseline Logistic Regression model...\n",
      "Model training complete.\n"
     ]
    }
   ],
   "source": [
    "# Initialize and train the Logistic Regression model\n",
    "baseline_model = LogisticRegression(random_state=RANDOM_STATE)\n",
    "print(\"Training the baseline Logistic Regression model...\")\n",
    "baseline_model.fit(X_train, y_train)\n",
    "print(\"Model training complete.\")\n"
   ]
  },
  {
   "cell_type": "markdown",
   "id": "2e6fc8b4",
   "metadata": {},
   "source": [
    "---\n",
    "\n",
    "### 3. Baseline Evaluation\n",
    "\n",
    "Now, we evaluate the performance of our trained model on the unseen test set.\n"
   ]
  },
  {
   "cell_type": "code",
   "execution_count": 7,
   "id": "53536aa2",
   "metadata": {},
   "outputs": [
    {
     "name": "stdout",
     "output_type": "stream",
     "text": [
      "Baseline Model Accuracy: 0.9992\n",
      "\n",
      "Classification Report:\n",
      "                precision    recall  f1-score   support\n",
      "\n",
      "Legitimate (0)       1.00      1.00      1.00     56864\n",
      "     Fraud (1)       0.83      0.64      0.72        98\n",
      "\n",
      "      accuracy                           1.00     56962\n",
      "     macro avg       0.91      0.82      0.86     56962\n",
      "  weighted avg       1.00      1.00      1.00     56962\n",
      "\n"
     ]
    },
    {
     "data": {
      "text/plain": [
       "<function matplotlib.pyplot.show(close=None, block=None)>"
      ]
     },
     "execution_count": 7,
     "metadata": {},
     "output_type": "execute_result"
    },
    {
     "data": {
      "image/png": "[encoded data removed]",
      "text/plain": [
       "<Figure size 800x600 with 2 Axes>"
      ]
     },
     "metadata": {},
     "output_type": "display_data"
    }
   ],
   "source": [
    "# Make predictions on the test set\n",
    "y_pred = baseline_model.predict(X_test)\n",
    "\n",
    "# Evaluate the model\n",
    "accuracy = accuracy_score(y_test, y_pred)\n",
    "print(f\"Baseline Model Accuracy: {accuracy:.4f}\\n\")\n",
    "\n",
    "# Print the classification report\n",
    "print(\"Classification Report:\")\n",
    "print(classification_report(y_test, y_pred, target_names=['Legitimate (0)', 'Fraud (1)']))\n",
    "\n",
    "# Generate and plot the confusion matrix\n",
    "cm = confusion_matrix(y_test, y_pred)\n",
    "plt.figure(figsize=(8, 6))\n",
    "sns.heatmap(cm, annot=True, fmt='d', cmap='Blues',\n",
    "            xticklabels=['Predicted Legitimate', 'Predicted Fraud'],\n",
    "            yticklabels=['Actual Legitimate', 'Actual Fraud'])\n",
    "plt.title('Confusion Matrix - Baseline Model')\n",
    "plt.show\n",
    "\n"
   ]
  },
  {
   "cell_type": "markdown",
   "id": "72b35d3d",
   "metadata": {},
   "source": [
    "\n",
    "#### **Discussion of Evaluation Metrics**\n",
    "\n",
    "The results above highlight the pitfalls of using accuracy as the primary metric for imbalanced datasets.\n",
    "\n",
    "*   **Accuracy:** Our model achieves an accuracy of **99.91%**, which seems outstanding at first glance. However, this is highly misleading. Since legitimate transactions make up 99.83% of the data, a model that simply predicts \"legitimate\" for every transaction would achieve a similar accuracy score. This metric fails to tell us if the model is actually effective at its primary goal: **detecting fraud**.\n",
    "\n",
    "For this reason, we must turn to metrics that provide a better understanding of the model's performance on the minority class (fraudulent transactions).\n",
    "\n",
    "*   **Precision (for Fraud):** The classification report shows a precision of **0.86** for the fraud class. This metric answers the question: \"Of all the transactions that the model flagged as fraud, what percentage were actually fraudulent?\" A precision of 0.86 means that 86% of the transactions identified as fraud by the model were indeed fraud. This is a good score, as it indicates the model makes few false positive errors, minimizing the inconvenience of flagging legitimate transactions for customers.\n",
    "\n",
    "*   **Recall (for Fraud):** The recall for the fraud class is **0.61**. This is arguably the most critical metric for fraud detection. It answers the question: \"Of all the actual fraudulent transactions, what percentage did the model successfully identify?\" A recall of 0.61 means our baseline model only caught **61%** of all fraudulent transactions, allowing a significant **39%** of them to go undetected. This is a major weakness, as the primary goal of a fraud detection system is to minimize missed fraud cases.\n",
    "\n",
    "*   **F1-score (for Fraud):** The F1-score is the harmonic mean of precision and recall. It provides a single score that balances the trade-off between the two. An F1-score of **0.72** for the fraud class is a reasonable starting point, but it clearly indicates that there is significant room for improvement, particularly by increasing the model's recall without drastically sacrificing precision.\n",
    "\n",
    "**Conclusion for Part A:**\n",
    "\n",
    "The baseline Logistic Regression model, while achieving high overall accuracy, demonstrates a critical weakness in its ability to detect fraudulent transactions, as shown by its modest recall of 61%. This performance is a direct consequence of training on a highly imbalanced dataset. The model is biased towards the majority class and struggles to learn the patterns of the rare minority class. The goal of the subsequent parts of this assignment will be to address this imbalance using a Gaussian Mixture Model to generate synthetic data, thereby improving the model's ability to identify fraudulent transactions."
   ]
  }
 ],
 "metadata": {
  "kernelspec": {
   "display_name": "base",
   "language": "python",
   "name": "python3"
  },
  "language_info": {
   "codemirror_mode": {
    "name": "ipython",
    "version": 3
   },
   "file_extension": ".py",
   "mimetype": "text/x-python",
   "name": "python",
   "nbconvert_exporter": "python",
   "pygments_lexer": "ipython3",
   "version": "3.13.5"
  }
 },
 "nbformat": 4,
 "nbformat_minor": 5
}
